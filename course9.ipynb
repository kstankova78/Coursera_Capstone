{
    "nbformat": 4, 
    "nbformat_minor": 1, 
    "cells": [
        {
            "source": "This notebook will be mainly used for the capstone project.", 
            "cell_type": "markdown", 
            "metadata": {
                "collapsed": true
            }
        }, 
        {
            "execution_count": 9, 
            "outputs": [], 
            "source": "import pandas as pn\n", 
            "metadata": {}, 
            "cell_type": "code"
        }, 
        {
            "execution_count": 7, 
            "outputs": [], 
            "source": "import numpy as np", 
            "metadata": {}, 
            "cell_type": "code"
        }, 
        {
            "execution_count": 8, 
            "outputs": [
                {
                    "output_type": "stream", 
                    "text": "Hello Capstone Project Course!\n", 
                    "name": "stdout"
                }
            ], 
            "source": "print (\"Hello Capstone Project Course!\")", 
            "metadata": {}, 
            "cell_type": "code"
        }, 
        {
            "execution_count": null, 
            "outputs": [], 
            "source": "", 
            "metadata": {}, 
            "cell_type": "code"
        }
    ], 
    "metadata": {
        "kernelspec": {
            "name": "python3", 
            "display_name": "Python 3.5 with Spark", 
            "language": "python3"
        }, 
        "language_info": {
            "nbconvert_exporter": "python", 
            "mimetype": "text/x-python", 
            "version": "3.5.4", 
            "file_extension": ".py", 
            "name": "python", 
            "pygments_lexer": "ipython3", 
            "codemirror_mode": {
                "version": 3, 
                "name": "ipython"
            }
        }
    }
}