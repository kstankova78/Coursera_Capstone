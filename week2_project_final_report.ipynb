{
    "metadata": {
        "kernelspec": {
            "language": "python", 
            "display_name": "Python 3.5", 
            "name": "python3"
        }, 
        "language_info": {
            "name": "python", 
            "codemirror_mode": {
                "version": 3, 
                "name": "ipython"
            }, 
            "version": "3.5.5", 
            "mimetype": "text/x-python", 
            "pygments_lexer": "ipython3", 
            "nbconvert_exporter": "python", 
            "file_extension": ".py"
        }
    }, 
    "nbformat": 4, 
    "cells": [
        {
            "metadata": {}, 
            "cell_type": "markdown", 
            "source": "# I. Introduction"
        }, 
        {
            "metadata": {}, 
            "cell_type": "markdown", 
            "source": "### 1. Description of the problem"
        }, 
        {
            "attachments": {}, 
            "metadata": {
                "collapsed": true
            }, 
            "cell_type": "markdown", 
            "source": "Our customer owns a craft shop in which the local people from downtown Toronto join different crochet courses and produce crochet cloths. They want to sell them to different types of Restaurants, Bakery, Breakfast Spot, Brewery and Caf\u00e9 and in this way they gather money for the local charities. The owner wants to build a more coffees like this and to provide more courses including bakery and knitting courses. \n\n"
        }, 
        {
            "metadata": {}, 
            "cell_type": "markdown", 
            "source": "### 2. What data we will need"
        }, 
        {
            "attachments": {}, 
            "metadata": {}, 
            "cell_type": "markdown", 
            "source": "We will need geo-locational information about that specific borough and the neighborhoods in that borough. We assume it is \u201dDowntown\" in Toronto. \nWe will need data about different venues in different neighborhoods of that specific borough. In order to gain that information we will use \"Foursquare\" locational information. By locational information for each venue we mean basic and advanced information about that venue. For example there is a venue in one of the neighborhoods. As basic information, we can obtain its precise latitude and longitude and also its distance from the center of the neighborhood. But we are looking for advanced information such as the category of that venue and whether this venue is a popular one in its category or maybe the average price of the services of this venue.\n"
        }, 
        {
            "metadata": {}, 
            "cell_type": "markdown", 
            "source": "# Main page"
        }, 
        {
            "metadata": {}, 
            "cell_type": "markdown", 
            "source": "# 1. Forsquare locational information"
        }, 
        {
            "metadata": {}, 
            "cell_type": "markdown", 
            "source": "After finding the list of neighborhoods, we then connect to the Foursquare API to gather information about venues inside each and every neighborhood. For each neighborhood, we have chosen the radius to be 1000 meter. It means that we have asked Foursquare to find venues that are at most 1000 meter far from the center of the neighborhood.\n"
        }, 
        {
            "metadata": {}, 
            "cell_type": "markdown", 
            "source": "### 2. Processing data"
        }, 
        {
            "metadata": {}, 
            "cell_type": "markdown", 
            "source": "When the data is completely gathered, we will perform processing on that raw data to find our desirable features for each venue. Our main feature is the category of that venue. After this stage, the column \"Venue's Category\" wil be One-hot encoded and different venues will have different feature-columns. After On-hot encoding we will integrate all restaurant columns to one column \"Total Restaurants\" and all food joint columns to \"Total Joints\" column.\n"
        }, 
        {
            "metadata": {}, 
            "cell_type": "markdown", 
            "source": "### 3.Applying one of Machine Learning Techniques (K-Means Clustering)\n"
        }, 
        {
            "metadata": {}, 
            "cell_type": "markdown", 
            "source": "#import k-means from clustering stage\nfrom sklearn.cluster import KMeans\n\n#run k-means clustering\nkmeans = KMeans(n_clusters = 5, random_state = 0).fit(downtown_onehot)"
        }, 
        {
            "metadata": {}, 
            "cell_type": "markdown", 
            "source": "# Reporting results and taking decision"
        }, 
        {
            "attachments": {}, 
            "metadata": {}, 
            "cell_type": "markdown", 
            "source": "Now, we focus on the centers of clusters and compare them for their \"Total Restaurants\" and their \"Total Joints\". The group which its center has the highest \"Total Sum\" will be our best recommendation to the contractor. {Note: Total Sum = Total Restaurants + Total Joints.} This algorithm although is pretty straightforward yet is strongly powerful.\nBest group is G1, second group is g5, third group is g3\n\n"
        }
    ], 
    "nbformat_minor": 1
}