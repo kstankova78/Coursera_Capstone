{
    "nbformat": 4, 
    "nbformat_minor": 1, 
    "cells": [
        {
            "execution_count": 1, 
            "outputs": [
                {
                    "output_type": "stream", 
                    "text": "Waiting for a Spark session to start...\nSpark Initialization Done! ApplicationId = app-20181025140604-0000\n", 
                    "name": "stdout"
                }
            ], 
            "source": "import numpy as np", 
            "metadata": {}, 
            "cell_type": "code"
        }, 
        {
            "execution_count": 2, 
            "outputs": [
                {
                    "output_type": "stream", 
                    "text": "Solving environment: done\n\n## Package Plan ##\n\n  environment location: /opt/ibm/conda/miniconda3\n\n  added / updated specs: \n    - geopy\n\n\nThe following packages will be downloaded:\n\n    package                    |            build\n    ---------------------------|-----------------\n    certifi-2018.8.24          |        py35_1001         139 KB  conda-forge\n    ca-certificates-2018.10.15 |       ha4d7672_0         135 KB  conda-forge\n    conda-4.5.11               |           py35_0         636 KB  conda-forge\n    geographiclib-1.49         |             py_0          32 KB  conda-forge\n    geopy-1.17.0               |             py_0          49 KB  conda-forge\n    openssl-1.0.2p             |       h470a237_1         3.1 MB  conda-forge\n    ------------------------------------------------------------\n                                           Total:         4.1 MB\n\nThe following NEW packages will be INSTALLED:\n\n    geographiclib:   1.49-py_0             conda-forge\n    geopy:           1.17.0-py_0           conda-forge\n\nThe following packages will be UPDATED:\n\n    ca-certificates: 2017.08.26-h1d4fec5_0             --> 2018.10.15-ha4d7672_0 conda-forge\n    certifi:         2018.1.18-py35_0                  --> 2018.8.24-py35_1001   conda-forge\n    conda:           4.5.11-py35_0                     --> 4.5.11-py35_0         conda-forge\n    openssl:         1.0.2o-h20670df_0                 --> 1.0.2p-h470a237_1     conda-forge\n\n\nDownloading and Extracting Packages\ncertifi-2018.8.24    | 139 KB    | ##################################### | 100% \nca-certificates-2018 | 135 KB    | ##################################### | 100% \nconda-4.5.11         | 636 KB    | ##################################### | 100% \ngeographiclib-1.49   | 32 KB     | ##################################### | 100% \ngeopy-1.17.0         | 49 KB     | ##################################### | 100% \nopenssl-1.0.2p       | 3.1 MB    | ##################################### | 100% \nPreparing transaction: done\nVerifying transaction: done\nExecuting transaction: done\nSolving environment: done\n\n## Package Plan ##\n\n  environment location: /opt/ibm/conda/miniconda3\n\n  added / updated specs: \n    - folium=0.5.0\n\n\nThe following packages will be downloaded:\n\n    package                    |            build\n    ---------------------------|-----------------\n    vincent-0.4.4              |             py_1          28 KB  conda-forge\n    branca-0.3.0               |             py_0          24 KB  conda-forge\n    folium-0.5.0               |             py_0          45 KB  conda-forge\n    altair-2.2.2               |           py35_1         462 KB  conda-forge\n    ------------------------------------------------------------\n                                           Total:         559 KB\n\nThe following NEW packages will be INSTALLED:\n\n    altair:  2.2.2-py35_1 conda-forge\n    branca:  0.3.0-py_0   conda-forge\n    folium:  0.5.0-py_0   conda-forge\n    vincent: 0.4.4-py_1   conda-forge\n\n\nDownloading and Extracting Packages\nvincent-0.4.4        | 28 KB     | ##################################### | 100% \nbranca-0.3.0         | 24 KB     | ##################################### | 100% \nfolium-0.5.0         | 45 KB     | ##################################### | 100% \naltair-2.2.2         | 462 KB    | ##################################### | 100% \nPreparing transaction: done\nVerifying transaction: done\nExecuting transaction: done\nLibraries imported.\n", 
                    "name": "stdout"
                }
            ], 
            "source": "import pandas as pd # library for data analsysis\npd.set_option('display.max_columns', None)\npd.set_option('display.max_rows', None)\n\nimport json # library to handle JSON files\n\n!conda install -c conda-forge geopy --yes # uncomment this line if you haven't completed the Foursquare API lab\nfrom geopy.geocoders import Nominatim # convert an address into latitude and longitude values\n\nimport requests # library to handle requests\nfrom pandas.io.json import json_normalize # tranform JSON file into a pandas dataframe\n\n# Matplotlib and associated plotting modules\nimport matplotlib.cm as cm\nimport matplotlib.colors as colors\n\n# import k-means from clustering stage\nfrom sklearn.cluster import KMeans\n\n!conda install -c conda-forge folium=0.5.0 --yes # uncomment this line if you haven't completed the Foursquare API lab\nimport folium # map rendering library\n\nprint('Libraries imported.')", 
            "metadata": {}, 
            "cell_type": "code"
        }, 
        {
            "execution_count": 4, 
            "outputs": [], 
            "source": "\ntable_from_top = 1\nwikipedia_page = 'List of postal codes of Canada: M'\ntrace = False\n\n", 
            "metadata": {}, 
            "cell_type": "code"
        }, 
        {
            "execution_count": 5, 
            "outputs": [], 
            "source": "import requests\nfrom bs4 import BeautifulSoup\nimport pandas as pd\n\n# Use SHIFT+TAB keys to popup inplace code help\n%config IPCompleter.greedy = True\n\n# Output multiple statements from one input cell\nfrom IPython.core.interactiveshell import InteractiveShell\nInteractiveShell.ast_node_interactivity = \"all\"", 
            "metadata": {}, 
            "cell_type": "code"
        }, 
        {
            "execution_count": 6, 
            "outputs": [], 
            "source": "\nwikipedia_url = 'https://en.wikipedia.org/wiki/List_of_postal_codes_of_Canada:_M'.format(wikipedia_page)\npage = requests.get(wikipedia_url)\nsoup = BeautifulSoup(page.content, 'lxml')\ntables = soup.find_all('table', {'class': 'wikitable'})\ntable = tables[table_from_top - 1]\n\n", 
            "metadata": {}, 
            "cell_type": "code"
        }, 
        {
            "execution_count": 7, 
            "outputs": [
                {
                    "execution_count": 7, 
                    "output_type": "execute_result", 
                    "data": {
                        "text/plain": "'Postcode'"
                    }, 
                    "metadata": {}
                }, 
                {
                    "execution_count": 7, 
                    "output_type": "execute_result", 
                    "data": {
                        "text/plain": "'Borough'"
                    }, 
                    "metadata": {}
                }, 
                {
                    "execution_count": 7, 
                    "output_type": "execute_result", 
                    "data": {
                        "text/plain": "'Neighbourhood'"
                    }, 
                    "metadata": {}
                }
            ], 
            "source": "feature_names = []\n\nheader_row = table.find('tr')\nfor header in header_row.find_all('th'):\n    feature_name = ' '.join(header.find_all(text=True))\n    feature_name.replace('\\n', '')\n    feature_names.append(feature_name)", 
            "metadata": {}, 
            "cell_type": "code"
        }, 
        {
            "execution_count": 8, 
            "outputs": [], 
            "source": "def has_coords(tag):\n    if tag.has_attr('class'):\n        if tag['class'][0] == 'latitude' or tag['class'][0] == 'longitude':\n            return True\n    return False\n\ndef get_coords(child):\n    coords = []\n    for coord in child.find_all(has_coords):\n        coords.append(coord.string)\n    if coords:\n        if trace:\n            return 'C = {}'.format(' '.join(coords))\n        else:\n            return ' '.join(coords)\n    else:\n        return ''\n\nsamples = []\nsample_rows = table.find_all('tr')[1:]\nfor sample_row in sample_rows:\n    features = []\n    for feature_col in sample_row.find_all('td'):\n        feature_value = ''\n        text = feature_col.string\n        if text:\n            if trace:\n                features.append('T = {}'.format(text))\n            else:\n                features.append(text)\n            continue\n        \n        for child in feature_col.children:\n            if child.name == 'span':\n                if child.has_attr('class'):\n                    if child['class'] == 'display:none':\n                        continue\n                if child.find_all(has_coords):\n                    feature_value = get_coords(child)\n                    if feature_value:\n                        break\n                    else:\n                        continue\n            if child.name == 'sup':\n                continue\n            if child.name == 'a':\n                if child.string[0] == '[':\n                    continue            \n            if child.name == 'a':\n                if trace:\n                    feature_value = 'A = {}'.format(child.string)\n                else:\n                    feature_value = child.string\n                break\n            if child.name == 'font':\n                if trace:\n                    feature_value = 'F = {}'.format(child.string)\n                else:\n                    feature_value = child.string\n                break\n            try:\n                # feature_value = '' for any tags not covered above\n                content = child.contents\n            except AttributeError:\n                # Handle whitespace between child tags, treated as a child string\n                if child.isspace():\n                    continue\n                if trace:\n                    feature_value = 'E = {}'.format(child)\n                else:\n                    feature_value = child\n                break\n        features.append(feature_value)\n    samples.append(dict(zip(feature_names, features)))", 
            "metadata": {}, 
            "cell_type": "code"
        }, 
        {
            "execution_count": 9, 
            "outputs": [
                {
                    "execution_count": 9, 
                    "output_type": "execute_result", 
                    "data": {
                        "text/html": "<div>\n<style scoped>\n    .dataframe tbody tr th:only-of-type {\n        vertical-align: middle;\n    }\n\n    .dataframe tbody tr th {\n        vertical-align: top;\n    }\n\n    .dataframe thead th {\n        text-align: right;\n    }\n</style>\n<table border=\"1\" class=\"dataframe\">\n  <thead>\n    <tr style=\"text-align: right;\">\n      <th></th>\n      <th>Borough</th>\n      <th>Neighbourhood</th>\n      <th>Postcode</th>\n    </tr>\n  </thead>\n  <tbody>\n    <tr>\n      <th>0</th>\n      <td>Not assigned</td>\n      <td>Not assigned</td>\n      <td>M1A</td>\n    </tr>\n    <tr>\n      <th>1</th>\n      <td>Not assigned</td>\n      <td>Not assigned</td>\n      <td>M2A</td>\n    </tr>\n    <tr>\n      <th>2</th>\n      <td>North York</td>\n      <td>Parkwoods</td>\n      <td>M3A</td>\n    </tr>\n    <tr>\n      <th>3</th>\n      <td>North York</td>\n      <td>Victoria Village</td>\n      <td>M4A</td>\n    </tr>\n    <tr>\n      <th>4</th>\n      <td>Downtown Toronto</td>\n      <td>Harbourfront</td>\n      <td>M5A</td>\n    </tr>\n  </tbody>\n</table>\n</div>", 
                        "text/plain": "            Borough   Neighbourhood\\n Postcode\n0      Not assigned     Not assigned\n      M1A\n1      Not assigned     Not assigned\n      M2A\n2        North York         Parkwoods      M3A\n3        North York  Victoria Village      M4A\n4  Downtown Toronto      Harbourfront      M5A"
                    }, 
                    "metadata": {}
                }, 
                {
                    "execution_count": 9, 
                    "output_type": "execute_result", 
                    "data": {
                        "text/html": "<div>\n<style scoped>\n    .dataframe tbody tr th:only-of-type {\n        vertical-align: middle;\n    }\n\n    .dataframe tbody tr th {\n        vertical-align: top;\n    }\n\n    .dataframe thead th {\n        text-align: right;\n    }\n</style>\n<table border=\"1\" class=\"dataframe\">\n  <thead>\n    <tr style=\"text-align: right;\">\n      <th></th>\n      <th>Borough</th>\n      <th>Neighbourhood</th>\n      <th>Postcode</th>\n    </tr>\n  </thead>\n  <tbody>\n    <tr>\n      <th>284</th>\n      <td>Etobicoke</td>\n      <td>Mimico NW</td>\n      <td>M8Z</td>\n    </tr>\n    <tr>\n      <th>285</th>\n      <td>Etobicoke</td>\n      <td>The Queensway West</td>\n      <td>M8Z</td>\n    </tr>\n    <tr>\n      <th>286</th>\n      <td>Etobicoke</td>\n      <td>Royal York South West</td>\n      <td>M8Z</td>\n    </tr>\n    <tr>\n      <th>287</th>\n      <td>Etobicoke</td>\n      <td>South of Bloor</td>\n      <td>M8Z</td>\n    </tr>\n    <tr>\n      <th>288</th>\n      <td>Not assigned</td>\n      <td>Not assigned</td>\n      <td>M9Z</td>\n    </tr>\n  </tbody>\n</table>\n</div>", 
                        "text/plain": "          Borough         Neighbourhood\\n Postcode\n284     Etobicoke               Mimico NW      M8Z\n285     Etobicoke      The Queensway West      M8Z\n286     Etobicoke  Royal York South West\n      M8Z\n287     Etobicoke          South of Bloor      M8Z\n288  Not assigned           Not assigned\n      M9Z"
                    }, 
                    "metadata": {}
                }
            ], 
            "source": "df = pd.DataFrame(samples)\ndf.head()\ndf.tail()", 
            "metadata": {}, 
            "cell_type": "code"
        }, 
        {
            "execution_count": 10, 
            "outputs": [], 
            "source": "dataset_file_name = 'List_of_postal_codes_of_Canada:_M.cvs'.format(wikipedia_page)\nif not trace:\n    df.to_csv(dataset_file_name, index=False)", 
            "metadata": {}, 
            "cell_type": "code"
        }, 
        {
            "source": "Drop rows with value \"Not assigned\" in Borough column", 
            "cell_type": "markdown", 
            "metadata": {}
        }, 
        {
            "execution_count": 11, 
            "outputs": [
                {
                    "execution_count": 11, 
                    "output_type": "execute_result", 
                    "data": {
                        "text/html": "<div>\n<style scoped>\n    .dataframe tbody tr th:only-of-type {\n        vertical-align: middle;\n    }\n\n    .dataframe tbody tr th {\n        vertical-align: top;\n    }\n\n    .dataframe thead th {\n        text-align: right;\n    }\n</style>\n<table border=\"1\" class=\"dataframe\">\n  <thead>\n    <tr style=\"text-align: right;\">\n      <th></th>\n      <th>Borough</th>\n      <th>Neighbourhood</th>\n      <th>Postcode</th>\n    </tr>\n  </thead>\n  <tbody>\n    <tr>\n      <th>2</th>\n      <td>North York</td>\n      <td>Parkwoods</td>\n      <td>M3A</td>\n    </tr>\n    <tr>\n      <th>3</th>\n      <td>North York</td>\n      <td>Victoria Village</td>\n      <td>M4A</td>\n    </tr>\n    <tr>\n      <th>4</th>\n      <td>Downtown Toronto</td>\n      <td>Harbourfront</td>\n      <td>M5A</td>\n    </tr>\n    <tr>\n      <th>5</th>\n      <td>Downtown Toronto</td>\n      <td>Regent Park</td>\n      <td>M5A</td>\n    </tr>\n    <tr>\n      <th>6</th>\n      <td>North York</td>\n      <td>Lawrence Heights</td>\n      <td>M6A</td>\n    </tr>\n    <tr>\n      <th>7</th>\n      <td>North York</td>\n      <td>Lawrence Manor</td>\n      <td>M6A</td>\n    </tr>\n    <tr>\n      <th>8</th>\n      <td>Queen's Park</td>\n      <td>Not assigned</td>\n      <td>M7A</td>\n    </tr>\n    <tr>\n      <th>10</th>\n      <td>Etobicoke</td>\n      <td>Islington Avenue</td>\n      <td>M9A</td>\n    </tr>\n    <tr>\n      <th>11</th>\n      <td>Scarborough</td>\n      <td>Rouge</td>\n      <td>M1B</td>\n    </tr>\n    <tr>\n      <th>12</th>\n      <td>Scarborough</td>\n      <td>Malvern</td>\n      <td>M1B</td>\n    </tr>\n    <tr>\n      <th>14</th>\n      <td>North York</td>\n      <td>Don Mills North</td>\n      <td>M3B</td>\n    </tr>\n    <tr>\n      <th>15</th>\n      <td>East York</td>\n      <td>Woodbine Gardens</td>\n      <td>M4B</td>\n    </tr>\n    <tr>\n      <th>16</th>\n      <td>East York</td>\n      <td>Parkview Hill</td>\n      <td>M4B</td>\n    </tr>\n    <tr>\n      <th>17</th>\n      <td>Downtown Toronto</td>\n      <td>Ryerson</td>\n      <td>M5B</td>\n    </tr>\n    <tr>\n      <th>18</th>\n      <td>Downtown Toronto</td>\n      <td>Garden District</td>\n      <td>M5B</td>\n    </tr>\n    <tr>\n      <th>19</th>\n      <td>North York</td>\n      <td>Glencairn</td>\n      <td>M6B</td>\n    </tr>\n    <tr>\n      <th>22</th>\n      <td>Etobicoke</td>\n      <td>Cloverdale</td>\n      <td>M9B</td>\n    </tr>\n    <tr>\n      <th>23</th>\n      <td>Etobicoke</td>\n      <td>Islington</td>\n      <td>M9B</td>\n    </tr>\n    <tr>\n      <th>24</th>\n      <td>Etobicoke</td>\n      <td>Martin Grove</td>\n      <td>M9B</td>\n    </tr>\n    <tr>\n      <th>25</th>\n      <td>Etobicoke</td>\n      <td>Princess Gardens</td>\n      <td>M9B</td>\n    </tr>\n    <tr>\n      <th>26</th>\n      <td>Etobicoke</td>\n      <td>West Deane Park</td>\n      <td>M9B</td>\n    </tr>\n    <tr>\n      <th>27</th>\n      <td>Scarborough</td>\n      <td>Highland Creek</td>\n      <td>M1C</td>\n    </tr>\n    <tr>\n      <th>28</th>\n      <td>Scarborough</td>\n      <td>Rouge Hill</td>\n      <td>M1C</td>\n    </tr>\n    <tr>\n      <th>29</th>\n      <td>Scarborough</td>\n      <td>Port Union</td>\n      <td>M1C</td>\n    </tr>\n    <tr>\n      <th>31</th>\n      <td>North York</td>\n      <td>Flemingdon Park</td>\n      <td>M3C</td>\n    </tr>\n    <tr>\n      <th>32</th>\n      <td>North York</td>\n      <td>Don Mills South</td>\n      <td>M3C</td>\n    </tr>\n    <tr>\n      <th>33</th>\n      <td>East York</td>\n      <td>Woodbine Heights</td>\n      <td>M4C</td>\n    </tr>\n    <tr>\n      <th>34</th>\n      <td>Downtown Toronto</td>\n      <td>St. James Town</td>\n      <td>M5C</td>\n    </tr>\n    <tr>\n      <th>35</th>\n      <td>York</td>\n      <td>Humewood-Cedarvale</td>\n      <td>M6C</td>\n    </tr>\n    <tr>\n      <th>38</th>\n      <td>Etobicoke</td>\n      <td>Bloordale Gardens</td>\n      <td>M9C</td>\n    </tr>\n    <tr>\n      <th>...</th>\n      <td>...</td>\n      <td>...</td>\n      <td>...</td>\n    </tr>\n    <tr>\n      <th>236</th>\n      <td>Scarborough</td>\n      <td>L'Amoreaux West</td>\n      <td>M1W</td>\n    </tr>\n    <tr>\n      <th>237</th>\n      <td>Scarborough</td>\n      <td>Steeles West</td>\n      <td>M1W</td>\n    </tr>\n    <tr>\n      <th>240</th>\n      <td>Downtown Toronto</td>\n      <td>Rosedale</td>\n      <td>M4W</td>\n    </tr>\n    <tr>\n      <th>241</th>\n      <td>Downtown Toronto</td>\n      <td>Stn A PO Boxes 25 The Esplanade</td>\n      <td>M5W</td>\n    </tr>\n    <tr>\n      <th>244</th>\n      <td>Etobicoke</td>\n      <td>Alderwood</td>\n      <td>M8W</td>\n    </tr>\n    <tr>\n      <th>245</th>\n      <td>Etobicoke</td>\n      <td>Long Branch</td>\n      <td>M8W</td>\n    </tr>\n    <tr>\n      <th>246</th>\n      <td>Etobicoke</td>\n      <td>Northwest</td>\n      <td>M9W</td>\n    </tr>\n    <tr>\n      <th>247</th>\n      <td>Scarborough</td>\n      <td>Upper Rouge</td>\n      <td>M1X</td>\n    </tr>\n    <tr>\n      <th>250</th>\n      <td>Downtown Toronto</td>\n      <td>Cabbagetown</td>\n      <td>M4X</td>\n    </tr>\n    <tr>\n      <th>251</th>\n      <td>Downtown Toronto</td>\n      <td>St. James Town</td>\n      <td>M4X</td>\n    </tr>\n    <tr>\n      <th>252</th>\n      <td>Downtown Toronto</td>\n      <td>First Canadian Place</td>\n      <td>M5X</td>\n    </tr>\n    <tr>\n      <th>253</th>\n      <td>Downtown Toronto</td>\n      <td>Underground city</td>\n      <td>M5X</td>\n    </tr>\n    <tr>\n      <th>256</th>\n      <td>Etobicoke</td>\n      <td>The Kingsway</td>\n      <td>M8X</td>\n    </tr>\n    <tr>\n      <th>257</th>\n      <td>Etobicoke</td>\n      <td>Montgomery Road</td>\n      <td>M8X</td>\n    </tr>\n    <tr>\n      <th>258</th>\n      <td>Etobicoke</td>\n      <td>Old Mill North</td>\n      <td>M8X</td>\n    </tr>\n    <tr>\n      <th>263</th>\n      <td>Downtown Toronto</td>\n      <td>Church and Wellesley</td>\n      <td>M4Y</td>\n    </tr>\n    <tr>\n      <th>266</th>\n      <td>East Toronto</td>\n      <td>Business reply mail Processing Centre969 Eastern</td>\n      <td>M7Y</td>\n    </tr>\n    <tr>\n      <th>267</th>\n      <td>Etobicoke</td>\n      <td>Humber Bay</td>\n      <td>M8Y</td>\n    </tr>\n    <tr>\n      <th>268</th>\n      <td>Etobicoke</td>\n      <td>King's Mill Park</td>\n      <td>M8Y</td>\n    </tr>\n    <tr>\n      <th>269</th>\n      <td>Etobicoke</td>\n      <td>Kingsway Park South East</td>\n      <td>M8Y</td>\n    </tr>\n    <tr>\n      <th>270</th>\n      <td>Etobicoke</td>\n      <td>Mimico NE</td>\n      <td>M8Y</td>\n    </tr>\n    <tr>\n      <th>271</th>\n      <td>Etobicoke</td>\n      <td>Old Mill South</td>\n      <td>M8Y</td>\n    </tr>\n    <tr>\n      <th>272</th>\n      <td>Etobicoke</td>\n      <td>The Queensway East</td>\n      <td>M8Y</td>\n    </tr>\n    <tr>\n      <th>273</th>\n      <td>Etobicoke</td>\n      <td>Royal York South East</td>\n      <td>M8Y</td>\n    </tr>\n    <tr>\n      <th>274</th>\n      <td>Etobicoke</td>\n      <td>Sunnylea</td>\n      <td>M8Y</td>\n    </tr>\n    <tr>\n      <th>283</th>\n      <td>Etobicoke</td>\n      <td>Kingsway Park South West</td>\n      <td>M8Z</td>\n    </tr>\n    <tr>\n      <th>284</th>\n      <td>Etobicoke</td>\n      <td>Mimico NW</td>\n      <td>M8Z</td>\n    </tr>\n    <tr>\n      <th>285</th>\n      <td>Etobicoke</td>\n      <td>The Queensway West</td>\n      <td>M8Z</td>\n    </tr>\n    <tr>\n      <th>286</th>\n      <td>Etobicoke</td>\n      <td>Royal York South West</td>\n      <td>M8Z</td>\n    </tr>\n    <tr>\n      <th>287</th>\n      <td>Etobicoke</td>\n      <td>South of Bloor</td>\n      <td>M8Z</td>\n    </tr>\n  </tbody>\n</table>\n<p>212 rows \u00d7 3 columns</p>\n</div>", 
                        "text/plain": "              Borough                                    Neighbourhood\\n  \\\n2          North York                                          Parkwoods   \n3          North York                                   Victoria Village   \n4    Downtown Toronto                                       Harbourfront   \n5    Downtown Toronto                                        Regent Park   \n6          North York                                   Lawrence Heights   \n7          North York                                     Lawrence Manor   \n8        Queen's Park                                      Not assigned\n   \n10          Etobicoke                                   Islington Avenue   \n11        Scarborough                                              Rouge   \n12        Scarborough                                            Malvern   \n14         North York                                   Don Mills North\n   \n15          East York                                   Woodbine Gardens   \n16          East York                                      Parkview Hill   \n17   Downtown Toronto                                            Ryerson   \n18   Downtown Toronto                                   Garden District\n   \n19         North York                                          Glencairn   \n22          Etobicoke                                        Cloverdale\n   \n23          Etobicoke                                          Islington   \n24          Etobicoke                                      Martin Grove\n   \n25          Etobicoke                                   Princess Gardens   \n26          Etobicoke                                    West Deane Park   \n27        Scarborough                                     Highland Creek   \n28        Scarborough                                         Rouge Hill   \n29        Scarborough                                         Port Union   \n31         North York                                    Flemingdon Park   \n32         North York                                   Don Mills South\n   \n33          East York                                   Woodbine Heights   \n34   Downtown Toronto                                     St. James Town   \n35               York                                 Humewood-Cedarvale   \n38          Etobicoke                                 Bloordale Gardens\n   \n..                ...                                                ...   \n236       Scarborough                                   L'Amoreaux West\n   \n237       Scarborough                                       Steeles West   \n240  Downtown Toronto                                           Rosedale   \n241  Downtown Toronto                   Stn A PO Boxes 25 The Esplanade\n   \n244         Etobicoke                                          Alderwood   \n245         Etobicoke                                        Long Branch   \n246         Etobicoke                                          Northwest   \n247       Scarborough                                        Upper Rouge   \n250  Downtown Toronto                                        Cabbagetown   \n251  Downtown Toronto                                     St. James Town   \n252  Downtown Toronto                               First Canadian Place   \n253  Downtown Toronto                                   Underground city   \n256         Etobicoke                                       The Kingsway   \n257         Etobicoke                                   Montgomery Road\n   \n258         Etobicoke                                    Old Mill North\n   \n263  Downtown Toronto                               Church and Wellesley   \n266      East Toronto  Business reply mail Processing Centre969 Eastern\n   \n267         Etobicoke                                         Humber Bay   \n268         Etobicoke                                   King's Mill Park   \n269         Etobicoke                          Kingsway Park South East\n   \n270         Etobicoke                                          Mimico NE   \n271         Etobicoke                                     Old Mill South   \n272         Etobicoke                                 The Queensway East   \n273         Etobicoke                              Royal York South East   \n274         Etobicoke                                           Sunnylea   \n283         Etobicoke                          Kingsway Park South West\n   \n284         Etobicoke                                          Mimico NW   \n285         Etobicoke                                 The Queensway West   \n286         Etobicoke                             Royal York South West\n   \n287         Etobicoke                                     South of Bloor   \n\n    Postcode  \n2        M3A  \n3        M4A  \n4        M5A  \n5        M5A  \n6        M6A  \n7        M6A  \n8        M7A  \n10       M9A  \n11       M1B  \n12       M1B  \n14       M3B  \n15       M4B  \n16       M4B  \n17       M5B  \n18       M5B  \n19       M6B  \n22       M9B  \n23       M9B  \n24       M9B  \n25       M9B  \n26       M9B  \n27       M1C  \n28       M1C  \n29       M1C  \n31       M3C  \n32       M3C  \n33       M4C  \n34       M5C  \n35       M6C  \n38       M9C  \n..       ...  \n236      M1W  \n237      M1W  \n240      M4W  \n241      M5W  \n244      M8W  \n245      M8W  \n246      M9W  \n247      M1X  \n250      M4X  \n251      M4X  \n252      M5X  \n253      M5X  \n256      M8X  \n257      M8X  \n258      M8X  \n263      M4Y  \n266      M7Y  \n267      M8Y  \n268      M8Y  \n269      M8Y  \n270      M8Y  \n271      M8Y  \n272      M8Y  \n273      M8Y  \n274      M8Y  \n283      M8Z  \n284      M8Z  \n285      M8Z  \n286      M8Z  \n287      M8Z  \n\n[212 rows x 3 columns]"
                    }, 
                    "metadata": {}
                }
            ], 
            "source": "\ndf[df.Borough != 'Not assigned']", 
            "metadata": {}, 
            "cell_type": "code"
        }, 
        {
            "source": "More than one neighborhood can exist in one postal code area. For example, in the table on the Wikipedia page, you will notice that M5A is listed twice and has two neighborhoods: Harbourfront and Regent Park. These two rows will be combined into one row with the neighborhoods separated with a comma as shown in row 11 in the above table.", 
            "cell_type": "markdown", 
            "metadata": {}
        }, 
        {
            "execution_count": 13, 
            "outputs": [
                {
                    "execution_count": 13, 
                    "output_type": "execute_result", 
                    "data": {
                        "text/plain": "Postcode\nM1A                                       Not assigned\\n\nM2A                                       Not assigned\\n\nM3A                                            Parkwoods\nM4A                                     Victoria Village\nM5A                            Harbourfront, Regent Park\nM6A                     Lawrence Heights, Lawrence Manor\nM7A                                       Not assigned\\n\nM8A                                       Not assigned\\n\nM9A                                     Islington Avenue\nM1B                                       Rouge, Malvern\nM2B                                       Not assigned\\n\nM3B                                    Don Mills North\\n\nM4B                      Woodbine Gardens, Parkview Hill\nM5B                           Ryerson, Garden District\\n\nM6B                                            Glencairn\nM7B                                       Not assigned\\n\nM8B                                       Not assigned\\n\nM9B    Cloverdale\\n, Islington, Martin Grove\\n, Princ...\nM1C               Highland Creek, Rouge Hill, Port Union\nM2C                                       Not assigned\\n\nM3C                   Flemingdon Park, Don Mills South\\n\nM4C                                     Woodbine Heights\nM5C                                       St. James Town\nM6C                                   Humewood-Cedarvale\nM7C                                       Not assigned\\n\nM8C                                       Not assigned\\n\nM9C    Bloordale Gardens\\n, Eringate\\n, Markland Wood...\nM1E                  Guildwood\\n, Morningside, West Hill\nM2E                                       Not assigned\\n\nM3E                                       Not assigned\\n\n                             ...                        \nM7W                                       Not assigned\\n\nM8W                               Alderwood, Long Branch\nM9W                                            Northwest\nM1X                                          Upper Rouge\nM2X                                       Not assigned\\n\nM3X                                       Not assigned\\n\nM4X                          Cabbagetown, St. James Town\nM5X               First Canadian Place, Underground city\nM6X                                       Not assigned\\n\nM7X                                       Not assigned\\n\nM8X    The Kingsway, Montgomery Road\\n, Old Mill North\\n\nM9X                                       Not assigned\\n\nM1Y                                       Not assigned\\n\nM2Y                                       Not assigned\\n\nM3Y                                       Not assigned\\n\nM4Y                                 Church and Wellesley\nM5Y                                       Not assigned\\n\nM6Y                                       Not assigned\\n\nM7Y    Business reply mail Processing Centre969 Easte...\nM8Y    Humber Bay, King's Mill Park, Kingsway Park So...\nM9Y                                       Not assigned\\n\nM1Z                                       Not assigned\\n\nM2Z                                       Not assigned\\n\nM3Z                                       Not assigned\\n\nM4Z                                       Not assigned\\n\nM5Z                                       Not assigned\\n\nM6Z                                       Not assigned\\n\nM7Z                                       Not assigned\\n\nM8Z    Kingsway Park South West\\n, Mimico NW, The Que...\nM9Z                                       Not assigned\\n\nName: Neighbourhood\\n, Length: 180, dtype: object"
                    }, 
                    "metadata": {}
                }
            ], 
            "source": "\ndf.groupby('Postcode', sort=False)['Neighbourhood\\n'].apply(', '.join)", 
            "metadata": {}, 
            "cell_type": "code"
        }, 
        {
            "execution_count": null, 
            "outputs": [], 
            "source": "", 
            "metadata": {}, 
            "cell_type": "code"
        }
    ], 
    "metadata": {
        "kernelspec": {
            "name": "python3", 
            "display_name": "Python 3.5 with Spark", 
            "language": "python3"
        }, 
        "language_info": {
            "nbconvert_exporter": "python", 
            "mimetype": "text/x-python", 
            "version": "3.5.4", 
            "file_extension": ".py", 
            "name": "python", 
            "pygments_lexer": "ipython3", 
            "codemirror_mode": {
                "version": 3, 
                "name": "ipython"
            }
        }
    }
}