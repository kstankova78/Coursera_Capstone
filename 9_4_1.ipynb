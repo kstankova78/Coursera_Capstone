{
    "nbformat": 4, 
    "nbformat_minor": 1, 
    "cells": [
        {
            "source": "# Introduction/Business Problem \n", 
            "cell_type": "markdown", 
            "metadata": {
                "collapsed": true
            }
        }, 
        {
            "source": "My client owns number of coffee shops in area of New Your and now would like to open coffee shop in Toronto where she can offer also different craft couses.  \nWe'd like to collect information about the trends  in the down town of Toronto. The goal is to decide which is best time for offering the courses inside the shop - morning hours or in the afternoon, bases on the people trafic.\n", 
            "cell_type": "markdown", 
            "metadata": {}
        }, 
        {
            "source": "# Data section ", 
            "cell_type": "markdown", 
            "metadata": {}
        }, 
        {
            "source": "Describe the data that you will be using to solve the problem or execute your idea. Remember that you will need to use the Foursquare location data to solve the problem or execute your idea. You can absolutely use other datasets in combination with the Foursquare location data. So make sure that you provide adequate explanation and discussion, with examples, of the data that you will be using, even if it is only Foursquare location data.\n\nThis submission will eventually become your Data section in your final report. So I recommend that you push the report (having your Data section) to your Github repository and submit a link to it.\n\nTo gather data for our analysis we will use the Foursquare location data which will allow us to see the trends in different time frames. ", 
            "cell_type": "markdown", 
            "metadata": {}
        }
    ], 
    "metadata": {
        "language_info": {
            "pygments_lexer": "ipython3", 
            "mimetype": "text/x-python", 
            "name": "python", 
            "version": "3.5.4", 
            "nbconvert_exporter": "python", 
            "file_extension": ".py", 
            "codemirror_mode": {
                "name": "ipython", 
                "version": 3
            }
        }, 
        "kernelspec": {
            "language": "python3", 
            "display_name": "Python 3.5 with Spark", 
            "name": "python3"
        }
    }
}