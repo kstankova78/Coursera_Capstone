{
    "nbformat": 4, 
    "nbformat_minor": 1, 
    "cells": [
        {
            "source": "# Introduction/Business Problem \n", 
            "cell_type": "markdown", 
            "metadata": {
                "collapsed": true
            }
        }, 
        {
            "source": "My client owns number of coffee shops in area of New Your and now would like to open coffee shop in Toronto where she can offer also different craft couses.  \nWe'd like to collect information about the trends  in the down town of Toronto. The goal is to decide which is best time for offering the courses inside the shop - morning hours or in the afternoon, bases on the people trafic.\n", 
            "cell_type": "markdown", 
            "metadata": {}
        }, 
        {
            "source": "# Data section ", 
            "cell_type": "markdown", 
            "metadata": {}
        }, 
        {
            "source": "My client owns number of coffee shops in area of New Your and now would like to open coffee shop in Toronto where she can offer also different craft couses.  \nWe'd like to collect information about the trends  in the down town of Toronto. The goal is to decide which is best time for offering the courses inside the shop - morning hours or in the afternoon, bases on the people trafic.\nTo gather data for our analysis we will use the Foursquare location data which will allow us to see the trends in different time frames.", 
            "cell_type": "markdown", 
            "metadata": {}
        }, 
        {
            "source": "", 
            "metadata": {}, 
            "outputs": [], 
            "cell_type": "code", 
            "execution_count": null
        }
    ], 
    "metadata": {
        "language_info": {
            "pygments_lexer": "ipython3", 
            "mimetype": "text/x-python", 
            "name": "python", 
            "version": "3.5.4", 
            "nbconvert_exporter": "python", 
            "file_extension": ".py", 
            "codemirror_mode": {
                "name": "ipython", 
                "version": 3
            }
        }, 
        "kernelspec": {
            "language": "python3", 
            "display_name": "Python 3.5 with Spark", 
            "name": "python3"
        }
    }
}